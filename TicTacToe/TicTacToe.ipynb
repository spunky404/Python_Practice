{
 "cells": [
  {
   "cell_type": "code",
   "execution_count": 1,
   "id": "4e38b385",
   "metadata": {},
   "outputs": [],
   "source": [
    "# Tic Tac Toe game using functions and loops\n",
    "Board = [\" \" for i in range(9)]"
   ]
  },
  {
   "cell_type": "code",
   "execution_count": 2,
   "id": "a9063b15",
   "metadata": {},
   "outputs": [],
   "source": [
    "def printBoard(): #print the board\n",
    "    row1= \"| {} | {} | {} |\".format(Board[0],Board[1],Board[2])\n",
    "    row2= \"| {} | {} | {} |\".format(Board[3],Board[4],Board[5])\n",
    "    row3= \"| {} | {} | {} |\".format(Board[6],Board[7],Board[8])\n",
    "    print()\n",
    "    print(row1) #print row 1\n",
    "    print(row2) #print row 2\n",
    "    print(row3) #print row 3"
   ]
  },
  {
   "cell_type": "code",
   "execution_count": 3,
   "id": "9eff1f44",
   "metadata": {},
   "outputs": [],
   "source": [
    "def Victory(icon): #function to check victory\n",
    "    if (Board[0] == icon and Board[1] == icon and Board[2] ==icon or\\\n",
    "        Board[3] == icon and Board[4] == icon and Board[5] ==icon or\\\n",
    "        Board[6] == icon and Board[7] == icon and Board[8] ==icon or\\\n",
    "        Board[0] == icon and Board[3] == icon and Board[6] ==icon or\\\n",
    "        Board[1] == icon and Board[4] == icon and Board[7] ==icon or\\\n",
    "        Board[2] == icon and Board[5] == icon and Board[8] ==icon or\\\n",
    "        Board[0] == icon and Board[4] == icon and Board[8] ==icon or\\\n",
    "        Board[6] == icon and Board[4] == icon and Board[2] ==icon):\n",
    "        return True\n",
    "    else:\n",
    "        return False"
   ]
  },
  {
   "cell_type": "code",
   "execution_count": 4,
   "id": "8a37d0c9",
   "metadata": {},
   "outputs": [],
   "source": [
    "def playerMove(icon): #function for players move\n",
    "    playerNumber = 0\n",
    "    if icon == \"X\":\n",
    "        playerNumber = 1\n",
    "    elif icon == \"O\":\n",
    "        playerNumber = 2\n",
    "    print()\n",
    "    print(\"Your turn player {} \".format(playerNumber))\n",
    "    choice = int(input(\"Enter position to mark {} between 1-9\".format(icon)).strip()) #taking input where to place X/O\n",
    "    if Board[choice - 1] == \" \": #checking if that box is empty\n",
    "        Board[choice - 1] = icon #marking it\n",
    "    else:\n",
    "        print()\n",
    "        print(\"That place is taken\") #if box is not empty"
   ]
  },
  {
   "cell_type": "code",
   "execution_count": 5,
   "id": "4cf6a2da",
   "metadata": {},
   "outputs": [
    {
     "name": "stdout",
     "output_type": "stream",
     "text": [
      "\n",
      "|   |   |   |\n",
      "|   |   |   |\n",
      "|   |   |   |\n",
      "\n",
      "Your turn player 1 \n",
      "Enter position to mark X between 1-91\n",
      "\n",
      "| X |   |   |\n",
      "|   |   |   |\n",
      "|   |   |   |\n",
      "\n",
      "Your turn player 2 \n",
      "Enter position to mark O between 1-95\n",
      "\n",
      "| X |   |   |\n",
      "|   | O |   |\n",
      "|   |   |   |\n",
      "\n",
      "Your turn player 1 \n",
      "Enter position to mark X between 1-99\n",
      "\n",
      "| X |   |   |\n",
      "|   | O |   |\n",
      "|   |   | X |\n",
      "\n",
      "Your turn player 2 \n",
      "Enter position to mark O between 1-93\n",
      "\n",
      "| X |   | O |\n",
      "|   | O |   |\n",
      "|   |   | X |\n",
      "\n",
      "Your turn player 1 \n",
      "Enter position to mark X between 1-97\n",
      "\n",
      "| X |   | O |\n",
      "|   | O |   |\n",
      "| X |   | X |\n",
      "\n",
      "Your turn player 2 \n",
      "Enter position to mark O between 1-94\n",
      "\n",
      "| X |   | O |\n",
      "| O | O |   |\n",
      "| X |   | X |\n",
      "\n",
      "Your turn player 1 \n",
      "Enter position to mark X between 1-98\n",
      "\n",
      "| X |   | O |\n",
      "| O | O |   |\n",
      "| X | X | X |\n",
      " Victory for Player: X \n"
     ]
    }
   ],
   "source": [
    "count = 0 #initating count so if there is no victory after 9 move - its draw\n",
    "while True: #loop will keep running until game is finished (victory or draw)\n",
    "    printBoard()\n",
    "    if Victory(\"o\"):\n",
    "        print(\" Victory for Player: o \")\n",
    "        break \n",
    "    if count == 9:\n",
    "        print(\"Draw\")\n",
    "        break\n",
    "    playerMove(\"X\")\n",
    "    count+=1\n",
    "    printBoard()\n",
    "    if Victory(\"X\"):\n",
    "        print(\" Victory for Player: X \")\n",
    "        break\n",
    "    if count == 9:\n",
    "        print(\"Draw\")\n",
    "        break\n",
    "    playerMove(\"O\")\n",
    "    count+=1"
   ]
  }
 ],
 "metadata": {
  "kernelspec": {
   "display_name": "Python 3 (ipykernel)",
   "language": "python",
   "name": "python3"
  },
  "language_info": {
   "codemirror_mode": {
    "name": "ipython",
    "version": 3
   },
   "file_extension": ".py",
   "mimetype": "text/x-python",
   "name": "python",
   "nbconvert_exporter": "python",
   "pygments_lexer": "ipython3",
   "version": "3.10.4"
  }
 },
 "nbformat": 4,
 "nbformat_minor": 5
}
